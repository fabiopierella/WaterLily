{
 "cells": [
  {
   "cell_type": "markdown",
   "metadata": {},
   "source": [
    "The [Taylor-Green Vortex](https://en.wikipedia.org/wiki/Taylor%E2%80%93Green_vortex) in 2D is defined with initial conditions\n",
    "\n",
    "$$ \n",
    "V_x = -U\\sin(x)\\cos(y),\\ V_y = U\\cos(x)\\sin(y)\n",
    "$$\n",
    "\n",
    "Let's simulate the evolution of that flow. First we include the packages we need."
   ]
  },
  {
   "cell_type": "code",
   "execution_count": null,
   "metadata": {},
   "outputs": [],
   "source": [
    "using WaterLily\n",
    "include(\"../examples/TwoD_plots.jl\") # For unix/OSX systems\n",
    "# include(\"..\\\\examples\\\\TwoD_plots.jl\") # For Windows systems\n",
    "gr(show = :ijulia)"
   ]
  },
  {
   "cell_type": "markdown",
   "metadata": {},
   "source": [
    "Now write a function to set up a simulation with the given initial conditions."
   ]
  },
  {
   "cell_type": "code",
   "execution_count": null,
   "metadata": {},
   "outputs": [],
   "source": [
    "function TGVortex(;p=7,N=[1,10],Re=100)\n",
    "    # Define vortex size, velocity, viscosity\n",
    "    L = 2^p; U = 1; ν = U*L/Re\n",
    "\n",
    "    # Taylor-Green-Vortex initial velocity field\n",
    "    V = apply(L+2,L+2,2) do i,vx\n",
    "        x,y = @. (vx-1.5)*2π/L          # scaled coordinates\n",
    "        i==1 && return -U*sin(x)*cos(y) # V_x\n",
    "        i==2 && return  U*cos(x)*sin(y) # V_y\n",
    "    end\n",
    "\n",
    "    # Initialize simulation\n",
    "    c = ones(L+2,L+2,2)  # no immersed solids\n",
    "    a = Flow(V,c,zeros(2),ν=ν)\n",
    "    b = MultiLevelPoisson(c)\n",
    "    return Simulation(U,L,a,b),L\n",
    "end"
   ]
  },
  {
   "cell_type": "markdown",
   "metadata": {},
   "source": [
    "Running the cell below evolves this initial condition over time. We visualize the vorticity of the flow by taking the curl of the velocity."
   ]
  },
  {
   "cell_type": "code",
   "execution_count": null,
   "metadata": {},
   "outputs": [],
   "source": [
    "sim,L = TGVortex(Re=100)\n",
    "tprint = WaterLily.sim_time(sim)\n",
    "\n",
    "nprint,Δprint = 75,0.05\n",
    "for i ∈ 0:nprint\n",
    "    tprint+=Δprint\n",
    "    sim_step!(sim,tprint)\n",
    "    @inside sim.flow.σ[I] = WaterLily.curl(3,I,sim.flow.u)*L\n",
    "    flood(sim.flow.σ,clims=(-5,5),legend=false,border=:none)\n",
    "end"
   ]
  },
  {
   "cell_type": "markdown",
   "metadata": {},
   "source": [
    "This 2D flow just decays over time, with the decay rate set by the Reynolds number. \n",
    "[The 3D version of this flow](https://www.youtube.com/watch?v=5sTt0wRNHkM) evolves completely differently; the symmetry is broken and turbulence emgerges and tears up the large slow vortices into small eddies very quickly."
   ]
  }
 ],
 "metadata": {
  "kernelspec": {
   "display_name": "Julia 1.5.0-rc1",
   "language": "julia",
   "name": "julia-1.5"
  },
  "language_info": {
   "file_extension": ".jl",
   "mimetype": "application/julia",
   "name": "julia",
   "version": "1.5.0"
  }
 },
 "nbformat": 4,
 "nbformat_minor": 4
}
