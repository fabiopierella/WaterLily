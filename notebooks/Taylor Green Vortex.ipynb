{
 "cells": [
  {
   "cell_type": "markdown",
   "metadata": {},
   "source": [
    "The [Taylor-Green Vortex](https://en.wikipedia.org/wiki/Taylor%E2%80%93Green_vortex) in 2D is defined with initial conditions\n",
    "\n",
    "$$ \n",
    "u_x = -U\\sin(x)\\cos(y),\\ u_y = U\\cos(x)\\sin(y)\n",
    "$$\n",
    "\n",
    "Let's simulate the evolution of that flow. First we include the packages we need."
   ]
  },
  {
   "cell_type": "code",
   "execution_count": null,
   "metadata": {},
   "outputs": [],
   "source": [
    "# using Pkg\n",
    "# Pkg.resolve()\n",
    "# Pkg.instantiate()\n",
    "\n",
    "using WaterLily\n",
    "\n",
    "include(\"../examples/TwoD_plots.jl\") # For unix/OSX systems\n",
    "# include(\"..\\\\examples\\\\TwoD_plots.jl\") # For Windows systems\n",
    "gr(show = :ijulia)"
   ]
  },
  {
   "cell_type": "markdown",
   "metadata": {},
   "source": [
    "Now write a function to set up a simulation with the given initial conditions. And a second function to evolove the flow in time and plot the vorticity."
   ]
  },
  {
   "cell_type": "code",
   "execution_count": null,
   "metadata": {},
   "outputs": [],
   "source": [
    "function TGVortex(;p=7,Re=100)\n",
    "    # Define vortex size, velocity, viscosity\n",
    "    L = 2^p; U = 1; ν = U*L/Re\n",
    "\n",
    "    # Taylor-Green-Vortex initial velocity field\n",
    "    function uλ(i,vx)\n",
    "        x,y = @. (vx-1.5)*2π/L          # scaled coordinates\n",
    "        i==1 && return -U*sin(x)*cos(y) # u_x\n",
    "        i==2 && return  U*cos(x)*sin(y) # u_y\n",
    "    end\n",
    "\n",
    "    # Return simulation\n",
    "    return Simulation((L+2,L+2),zeros(2),L;uλ,ν,U)\n",
    "end\n",
    "\n",
    "function runSim_PlotCurl(sim;tend,clim)\n",
    "    t₀ = WaterLily.sim_time(sim)\n",
    "    for t ∈ range(t₀,t₀+tend,step=0.25)\n",
    "        sim_step!(sim,t)\n",
    "        @inside sim.flow.σ[I] = WaterLily.curl(3,I,sim.flow.u)*sim.L/sim.U\n",
    "        flood(sim.flow.σ,clims=(-clim,clim),legend=false,border=:none)\n",
    "    end\n",
    "end"
   ]
  },
  {
   "cell_type": "markdown",
   "metadata": {},
   "source": [
    "Running the cell below evolves this initial condition over time. We visualize the vorticity of the flow by taking the curl of the velocity."
   ]
  },
  {
   "cell_type": "code",
   "execution_count": null,
   "metadata": {},
   "outputs": [],
   "source": [
    "sim = TGVortex(Re=100) # Low Re, Laminar decay\n",
    "runSim_PlotCurl(sim,tend=5,clim=2)"
   ]
  },
  {
   "cell_type": "markdown",
   "metadata": {},
   "source": [
    "Using a low Re, this 2D flow decays steadily over time, with the decay rate set by the Reynolds number."
   ]
  },
  {
   "cell_type": "code",
   "execution_count": null,
   "metadata": {},
   "outputs": [],
   "source": [
    "sim = TGVortex(Re=10^6) # High Re. Turbulent instability\n",
    "runSim_PlotCurl(sim,tend=20,clim=10)"
   ]
  },
  {
   "cell_type": "markdown",
   "metadata": {},
   "source": [
    "At high Re, an instability takes over and the size of the vortex doubles. \n",
    "\n",
    "[The 3D version of this flow](https://www.youtube.com/watch?v=5sTt0wRNHkM) evolves completely differently; the symmetry is broken and turbulence emgerges and tears up the large slow vortices into small eddies very quickly."
   ]
  }
 ],
 "metadata": {
  "kernelspec": {
   "display_name": "Julia 1.5.0-rc1",
   "language": "julia",
   "name": "julia-1.5"
  },
  "language_info": {
   "file_extension": ".jl",
   "mimetype": "application/julia",
   "name": "julia",
   "version": "1.5.0"
  }
 },
 "nbformat": 4,
 "nbformat_minor": 4
}
