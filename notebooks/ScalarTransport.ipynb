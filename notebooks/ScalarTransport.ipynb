{
 "cells": [
  {
   "cell_type": "code",
   "execution_count": null,
   "metadata": {},
   "outputs": [],
   "source": [
    "using WaterLily\n",
    "include(\"../examples/TwoD_plots.jl\") # For unix/OSX systems\n",
    "# include(\"..\\\\examples\\\\TwoD_plots.jl\") # For Windows systems\n",
    "gr(show = :ijulia)"
   ]
  },
  {
   "cell_type": "code",
   "execution_count": null,
   "metadata": {},
   "outputs": [],
   "source": [
    "function scal_init(n,m)\n",
    "    f = zeros(n,m)\n",
    "    f[n÷4+10:3*n÷4+10, m-n÷4-5:m-5] .= 1\n",
    "    \n",
    "    u = apply(n,m,2) do i,vx\n",
    "        x,y = @. (vx-1.5)*π/(m-2)     # scaled coordinates\n",
    "        i==1 && return  sin(x)*cos(y) # u_x\n",
    "        i==2 && return -cos(x)*sin(y) # u_y\n",
    "    end\n",
    "    return f,u\n",
    "end\n",
    "scal_init(n)=scal_init(n,n)"
   ]
  },
  {
   "cell_type": "code",
   "execution_count": null,
   "metadata": {},
   "outputs": [],
   "source": [
    "n = 8; f,u = scal_init(2^n,2^(n-1))\n",
    "r = similar(f)\n",
    "\n",
    "t = 0; Δt=0.25; t_end = 2^(n+0.5)\n",
    "gr(show = :ijulia)\n",
    "while t < t_end\n",
    "    t += Δt\n",
    "    r .= 0\n",
    "    WaterLily.tracer_transport!(r,f,u)\n",
    "    @inside f[I] = f[I]+Δt*r[I]\n",
    "    if t%2^(n-5)<=Δt\n",
    "        flood(f,clim=(0.05,1),fill=(true,palette(:algae)),legend=false)\n",
    "    end\n",
    "end"
   ]
  },
  {
   "cell_type": "code",
   "execution_count": null,
   "metadata": {},
   "outputs": [],
   "source": []
  }
 ],
 "metadata": {
  "kernelspec": {
   "display_name": "Julia 1.5.0-rc1",
   "language": "julia",
   "name": "julia-1.5"
  },
  "language_info": {
   "file_extension": ".jl",
   "mimetype": "application/julia",
   "name": "julia",
   "version": "1.5.0"
  }
 },
 "nbformat": 4,
 "nbformat_minor": 2
}
